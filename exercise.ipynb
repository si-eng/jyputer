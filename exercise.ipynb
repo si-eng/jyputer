{
 "cells": [
  {
   "cell_type": "code",
   "execution_count": 1,
   "id": "8b36a8e6",
   "metadata": {},
   "outputs": [
    {
     "name": "stdout",
     "output_type": "stream",
     "text": [
      "current version 3.9.12 (main, Apr  4 2022, 05:22:27) [MSC v.1916 64 bit (AMD64)]\n"
     ]
    }
   ],
   "source": [
    "#python version\n",
    "import sys\n",
    "\n",
    "\n",
    "print(\"current version\",sys.version)"
   ]
  },
  {
   "cell_type": "code",
   "execution_count": 2,
   "id": "73362611",
   "metadata": {},
   "outputs": [
    {
     "name": "stdout",
     "output_type": "stream",
     "text": [
      "current time is  2022-10-18 13:40:07.507547\n"
     ]
    }
   ],
   "source": [
    "#date and time\n",
    "import datetime\n",
    "\n",
    "time = datetime.datetime.now()\n",
    " \n",
    "print(\"current time is \",time)"
   ]
  },
  {
   "cell_type": "code",
   "execution_count": 3,
   "id": "19d238ef",
   "metadata": {},
   "outputs": [
    {
     "name": "stdout",
     "output_type": "stream",
     "text": [
      "Twinkle, twinkle, little star, \n",
      "\t How I wonder what you are! \n",
      "\t\t Up above the world so high,\n",
      "\t \t Like a diamond in the sky.\n",
      " Twinkle, twinkle, little star,\n",
      "\t How I wonder what you are\n"
     ]
    }
   ],
   "source": [
    "#simple string\n",
    "print(\"Twinkle, twinkle, little star, \\n\\t How I wonder what you are! \\n\\t\\t Up above the world so high,\\n\\t \\t Like a diamond in the sky.\\n Twinkle, twinkle, little star,\\n\\t How I wonder what you are\")"
   ]
  },
  {
   "cell_type": "code",
   "execution_count": 5,
   "id": "ed29ca12",
   "metadata": {},
   "outputs": [
    {
     "name": "stdout",
     "output_type": "stream",
     "text": [
      "enter your first namesakshi\n",
      "enter your last namesharma\n",
      "sharmasakshi\n"
     ]
    }
   ],
   "source": [
    "firstname=(input(\"enter your first name\"))\n",
    "lastname=(input(\"enter your last name\"))\n",
    "r=(lastname+firstname)\n",
    "print(r)"
   ]
  },
  {
   "cell_type": "code",
   "execution_count": 8,
   "id": "8e3bf50e",
   "metadata": {},
   "outputs": [
    {
     "name": "stdout",
     "output_type": "stream",
     "text": [
      "Enter radius of circle : 1.1\n",
      "Area of the circle is: 3.7994000000000008\n"
     ]
    }
   ],
   "source": [
    "a=3.14\n",
    "\n",
    "r = float(input (\"Enter radius of circle : \"))\n",
    "\n",
    "print (\"Area of the circle is: \" + str(a * r**2))"
   ]
  },
  {
   "cell_type": "code",
   "execution_count": 9,
   "id": "25436c85",
   "metadata": {},
   "outputs": [
    {
     "name": "stdout",
     "output_type": "stream",
     "text": [
      "['3', '5', '7', '23']\n",
      "('3', '5', '7', '23')\n"
     ]
    }
   ],
   "source": [
    "d='3', '5', '7', '23'\n",
    "print(list(d))\n",
    "print(tuple(d))\n"
   ]
  },
  {
   "cell_type": "code",
   "execution_count": null,
   "id": "fe54ee05",
   "metadata": {},
   "outputs": [],
   "source": []
  }
 ],
 "metadata": {
  "kernelspec": {
   "display_name": "Python 3 (ipykernel)",
   "language": "python",
   "name": "python3"
  },
  "language_info": {
   "codemirror_mode": {
    "name": "ipython",
    "version": 3
   },
   "file_extension": ".py",
   "mimetype": "text/x-python",
   "name": "python",
   "nbconvert_exporter": "python",
   "pygments_lexer": "ipython3",
   "version": "3.9.12"
  }
 },
 "nbformat": 4,
 "nbformat_minor": 5
}
